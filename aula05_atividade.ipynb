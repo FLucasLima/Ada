{
 "cells": [
  {
   "cell_type": "code",
   "execution_count": 8,
   "metadata": {},
   "outputs": [],
   "source": [
    "import pandas as pd\n",
    "import numpy as np\n",
    "from tabulate import tabulate\n",
    "\n"
   ]
  },
  {
   "cell_type": "code",
   "execution_count": 9,
   "metadata": {},
   "outputs": [
    {
     "name": "stdout",
     "output_type": "stream",
     "text": [
      "Requirement already satisfied: tabulate in c:\\users\\lucas\\appdata\\local\\programs\\python\\python312\\lib\\site-packages (0.9.0)\n",
      "Note: you may need to restart the kernel to use updated packages.\n"
     ]
    },
    {
     "name": "stderr",
     "output_type": "stream",
     "text": [
      "\n",
      "[notice] A new release of pip is available: 24.0 -> 24.2\n",
      "[notice] To update, run: python.exe -m pip install --upgrade pip\n"
     ]
    }
   ],
   "source": [
    "pip install tabulate"
   ]
  },
  {
   "cell_type": "code",
   "execution_count": 10,
   "metadata": {},
   "outputs": [
    {
     "name": "stdout",
     "output_type": "stream",
     "text": [
      "╒════╤════════╤═════════════════╤══════════════╤═══════════╤═══════════╤═══════════╤═══════════╕\n",
      "│    │     RA │ Nome            │   Frequencia │   Prova_1 │   Prova_2 │   Prova_3 │   Prova_4 │\n",
      "╞════╪════════╪═════════════════╪══════════════╪═══════════╪═══════════╪═══════════╪═══════════╡\n",
      "│  0 │ 110201 │ Antonio Carlos  │           20 │       6.5 │       8.5 │       7   │         6 │\n",
      "├────┼────────┼─────────────────┼──────────────┼───────────┼───────────┼───────────┼───────────┤\n",
      "│  1 │ 110212 │ Ana Beatriz     │           20 │       7   │       7   │       7   │         8 │\n",
      "├────┼────────┼─────────────────┼──────────────┼───────────┼───────────┼───────────┼───────────┤\n",
      "│  2 │ 110218 │ Carlos Vernes   │           17 │       7   │       7   │       7   │         7 │\n",
      "├────┼────────┼─────────────────┼──────────────┼───────────┼───────────┼───────────┼───────────┤\n",
      "│  3 │ 110307 │ Francisco Cunha │           20 │       9   │       8.5 │       8.5 │        10 │\n",
      "├────┼────────┼─────────────────┼──────────────┼───────────┼───────────┼───────────┼───────────┤\n",
      "│  4 │ 110275 │ Sandra Rosa     │           15 │       6.5 │       7.5 │       7   │         7 │\n",
      "├────┼────────┼─────────────────┼──────────────┼───────────┼───────────┼───────────┼───────────┤\n",
      "│  5 │ 110281 │ Juliana Arruda  │           18 │       7.5 │       7   │       7.5 │         8 │\n",
      "├────┼────────┼─────────────────┼──────────────┼───────────┼───────────┼───────────┼───────────┤\n",
      "│  6 │ 110301 │ Joao Galo       │           20 │       5   │       6.5 │       7   │         5 │\n",
      "├────┼────────┼─────────────────┼──────────────┼───────────┼───────────┼───────────┼───────────┤\n",
      "│  7 │ 110263 │ José Valente    │           20 │      10   │      10   │      10   │        10 │\n",
      "├────┼────────┼─────────────────┼──────────────┼───────────┼───────────┼───────────┼───────────┤\n",
      "│  8 │ 110271 │ Maria Ferreira  │           19 │       9.5 │       8   │       7   │        10 │\n",
      "├────┼────────┼─────────────────┼──────────────┼───────────┼───────────┼───────────┼───────────┤\n",
      "│  9 │ 110236 │ Adriana Tavares │           20 │       8   │       8   │       8   │         8 │\n",
      "╘════╧════════╧═════════════════╧══════════════╧═══════════╧═══════════╧═══════════╧═══════════╛\n"
     ]
    }
   ],
   "source": [
    "alunos = pd.read_csv(r'C:\\Users\\LUCAS\\OneDrive\\ADA\\Tecnicas de progamacao II\\Aula 5\\alunos.csv')\n",
    "print(tabulate(alunos, headers='keys', tablefmt='fancy_grid'))\n",
    "\n"
   ]
  },
  {
   "cell_type": "code",
   "execution_count": 11,
   "metadata": {},
   "outputs": [
    {
     "name": "stdout",
     "output_type": "stream",
     "text": [
      "+----------------+------------+\n",
      "| Nome           | Média      |\n",
      "+================+============+\n",
      "| Antonio Carlos | Média: 7.0 |\n",
      "+----------------+------------+\n",
      "+-------------+-------------+\n",
      "| Nome        | Média       |\n",
      "+=============+=============+\n",
      "| Ana Beatriz | Média: 7.25 |\n",
      "+-------------+-------------+\n",
      "+---------------+------------+\n",
      "| Nome          | Média      |\n",
      "+===============+============+\n",
      "| Carlos Vernes | Média: 7.0 |\n",
      "+---------------+------------+\n",
      "+-----------------+------------+\n",
      "| Nome            | Média      |\n",
      "+=================+============+\n",
      "| Francisco Cunha | Média: 9.0 |\n",
      "+-----------------+------------+\n",
      "+-------------+------------+\n",
      "| Nome        | Média      |\n",
      "+=============+============+\n",
      "| Sandra Rosa | Média: 7.0 |\n",
      "+-------------+------------+\n",
      "+----------------+------------+\n",
      "| Nome           | Média      |\n",
      "+================+============+\n",
      "| Juliana Arruda | Média: 7.5 |\n",
      "+----------------+------------+\n",
      "+-----------+--------------+\n",
      "| Nome      | Média        |\n",
      "+===========+==============+\n",
      "| Joao Galo | Média: 5.875 |\n",
      "+-----------+--------------+\n",
      "+--------------+-------------+\n",
      "| Nome         | Média       |\n",
      "+==============+=============+\n",
      "| José Valente | Média: 10.0 |\n",
      "+--------------+-------------+\n",
      "+----------------+--------------+\n",
      "| Nome           | Média        |\n",
      "+================+==============+\n",
      "| Maria Ferreira | Média: 8.625 |\n",
      "+----------------+--------------+\n",
      "+-----------------+------------+\n",
      "| Nome            | Média      |\n",
      "+=================+============+\n",
      "| Adriana Tavares | Média: 8.0 |\n",
      "+-----------------+------------+\n"
     ]
    }
   ],
   "source": [
    "# Calculando a média das notas de cada aluno (considerando as provas como colunas numéricas)\n",
    "alunos['Media'] = alunos[['Prova_1', 'Prova_2', 'Prova_3', 'Prova_4']].mean(axis=1)\n",
    "for index, row in alunos.iterrows():\n",
    "    print(tabulate([[row['Nome'], f\"Média: {row['Media']}\"]], headers=[\"Nome\", \"Média\"], tablefmt=\"grid\"))"
   ]
  },
  {
   "cell_type": "code",
   "execution_count": 55,
   "metadata": {},
   "outputs": [
    {
     "name": "stdout",
     "output_type": "stream",
     "text": [
      "A média da turma é 7.725\n"
     ]
    }
   ],
   "source": [
    "media_turma = alunos['Media'].mean()\n",
    "print(\"A média da turma é\", media_turma)"
   ]
  },
  {
   "cell_type": "code",
   "execution_count": 58,
   "metadata": {},
   "outputs": [
    {
     "name": "stdout",
     "output_type": "stream",
     "text": [
      "O aluno com a menor média é 110301 com média 5.875\n"
     ]
    }
   ],
   "source": [
    "aluno_menor_media = alunos.loc[alunos['Media'].idxmin()]\n",
    "print(\"O aluno com a menor média é\", aluno_menor_media['RA'], \"com média\", aluno_menor_media['Media'])"
   ]
  },
  {
   "cell_type": "code",
   "execution_count": 62,
   "metadata": {},
   "outputs": [
    {
     "name": "stdout",
     "output_type": "stream",
     "text": [
      "╒════╤════════╤═════════════════╤══════════════╤═══════════╤═══════════╤═══════════╤═══════════╤═════════╕\n",
      "│    │     RA │ Nome            │   Frequencia │   Prova_1 │   Prova_2 │   Prova_3 │   Prova_4 │   Media │\n",
      "╞════╪════════╪═════════════════╪══════════════╪═══════════╪═══════════╪═══════════╪═══════════╪═════════╡\n",
      "│  1 │ 110212 │ Ana Beatriz     │           20 │       7   │       7   │       7   │         8 │   7.25  │\n",
      "├────┼────────┼─────────────────┼──────────────┼───────────┼───────────┼───────────┼───────────┼─────────┤\n",
      "│  3 │ 110307 │ Francisco Cunha │           20 │       9   │       8.5 │       8.5 │        10 │   9     │\n",
      "├────┼────────┼─────────────────┼──────────────┼───────────┼───────────┼───────────┼───────────┼─────────┤\n",
      "│  5 │ 110281 │ Juliana Arruda  │           18 │       7.5 │       7   │       7.5 │         8 │   7.5   │\n",
      "├────┼────────┼─────────────────┼──────────────┼───────────┼───────────┼───────────┼───────────┼─────────┤\n",
      "│  7 │ 110263 │ José Valente    │           20 │      10   │      10   │      10   │        10 │  10     │\n",
      "├────┼────────┼─────────────────┼──────────────┼───────────┼───────────┼───────────┼───────────┼─────────┤\n",
      "│  8 │ 110271 │ Maria Ferreira  │           19 │       9.5 │       8   │       7   │        10 │   8.625 │\n",
      "├────┼────────┼─────────────────┼──────────────┼───────────┼───────────┼───────────┼───────────┼─────────┤\n",
      "│  9 │ 110236 │ Adriana Tavares │           20 │       8   │       8   │       8   │         8 │   8     │\n",
      "╘════╧════════╧═════════════════╧══════════════╧═══════════╧═══════════╧═══════════╧═══════════╧═════════╛\n",
      "╒══════╤════════╤══════════════╤═══════════╤═══════════╤═══════════╤═══════════╤═════════╕\n",
      "│ RA   │ Nome   │ Frequencia   │ Prova_1   │ Prova_2   │ Prova_3   │ Prova_4   │ Media   │\n",
      "╞══════╪════════╪══════════════╪═══════════╪═══════════╪═══════════╪═══════════╪═════════╡\n",
      "╘══════╧════════╧══════════════╧═══════════╧═══════════╧═══════════╧═══════════╧═════════╛\n",
      "╒════╤════════╤════════════════╤══════════════╤═══════════╤═══════════╤═══════════╤═══════════╤═════════╕\n",
      "│    │     RA │ Nome           │   Frequencia │   Prova_1 │   Prova_2 │   Prova_3 │   Prova_4 │   Media │\n",
      "╞════╪════════╪════════════════╪══════════════╪═══════════╪═══════════╪═══════════╪═══════════╪═════════╡\n",
      "│  0 │ 110201 │ Antonio Carlos │           20 │       6.5 │       8.5 │         7 │         6 │   7     │\n",
      "├────┼────────┼────────────────┼──────────────┼───────────┼───────────┼───────────┼───────────┼─────────┤\n",
      "│  2 │ 110218 │ Carlos Vernes  │           17 │       7   │       7   │         7 │         7 │   7     │\n",
      "├────┼────────┼────────────────┼──────────────┼───────────┼───────────┼───────────┼───────────┼─────────┤\n",
      "│  4 │ 110275 │ Sandra Rosa    │           15 │       6.5 │       7.5 │         7 │         7 │   7     │\n",
      "├────┼────────┼────────────────┼──────────────┼───────────┼───────────┼───────────┼───────────┼─────────┤\n",
      "│  6 │ 110301 │ Joao Galo      │           20 │       5   │       6.5 │         7 │         5 │   5.875 │\n",
      "╘════╧════════╧════════════════╧══════════════╧═══════════╧═══════════╧═══════════╧═══════════╧═════════╛\n"
     ]
    }
   ],
   "source": [
    "# Alunos com média acima de 7\n",
    "alunos_acima_7 = alunos[alunos['Media'] > 7]\n",
    "print(tabulate(alunos_acima_7, headers='keys', tablefmt='fancy_grid',))\n",
    "\n",
    "# Alunos com média abaixo de 4\n",
    "alunos_abaixo_4 = alunos[alunos['Media'] < 4]\n",
    "print(tabulate(alunos_abaixo_4, headers='keys', tablefmt='fancy_grid',))\n",
    "\n",
    "\n",
    "# Alunos com média entre 4 e 7\n",
    "alunos_entre_4_7 = alunos[(alunos['Media'] >= 4) & (alunos['Media'] <= 7)]\n",
    "print(tabulate(alunos_entre_4_7, headers='keys', tablefmt='fancy_grid',))\n"
   ]
  }
 ],
 "metadata": {
  "kernelspec": {
   "display_name": "Python 3",
   "language": "python",
   "name": "python3"
  },
  "language_info": {
   "codemirror_mode": {
    "name": "ipython",
    "version": 3
   },
   "file_extension": ".py",
   "mimetype": "text/x-python",
   "name": "python",
   "nbconvert_exporter": "python",
   "pygments_lexer": "ipython3",
   "version": "3.12.2"
  }
 },
 "nbformat": 4,
 "nbformat_minor": 2
}

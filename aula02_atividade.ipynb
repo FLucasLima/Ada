{
 "cells": [
  {
   "cell_type": "markdown",
   "metadata": {},
   "source": [
    "### Exercicios:\n",
    "1. De acordo com o array X = np.array([3, 5, 6, 7, 2, 3, 4, 9, 4])\n",
    "faça a soma\n",
    "2. Faça a média\n",
    "3. Dada a matriz faça a soma das colunas X = np.array([\n",
    "    [1,   2,  3,  4],\n",
    "    [5,   6,  7,  8],\n",
    "    [9,  10, 11, 12],\n",
    "    [13, 14, 15, 16]\n",
    "])\n",
    "4. Faça a média das linhas\n",
    "5. Dado o array X = np.array([1, 2, 0, 4, 5, 6, 0, 0, 9, 10])\n",
    "Mostre o elemento de maior valor"
   ]
  },
  {
   "cell_type": "code",
   "execution_count": 2,
   "metadata": {},
   "outputs": [],
   "source": [
    "import numpy as np"
   ]
  },
  {
   "cell_type": "code",
   "execution_count": 7,
   "metadata": {},
   "outputs": [
    {
     "name": "stdout",
     "output_type": "stream",
     "text": [
      "A soma dos elementos é 43\n"
     ]
    }
   ],
   "source": [
    "# Exercício 1. De acordo com o array X = np.array([3, 5, 6, 7, 2, 3, 4, 9, 4]) faça a soma:\n",
    "\n",
    "array_X = np.array([3, 5, 6, 7, 2, 3, 4, 9, 4])\n",
    "soma_total = np.sum(array_X)\n",
    "print(\"A soma dos elementos é\", soma_total)\n"
   ]
  },
  {
   "cell_type": "code",
   "execution_count": 8,
   "metadata": {},
   "outputs": [
    {
     "name": "stdout",
     "output_type": "stream",
     "text": [
      "A média dos elementos é: 4.777777777777778\n"
     ]
    }
   ],
   "source": [
    "# Exercício 2. Faça a média:\n",
    "\n",
    "media_array_X = np.mean(array_X)\n",
    "print(\"A média dos elementos é:\", media_array_X)\n"
   ]
  },
  {
   "cell_type": "code",
   "execution_count": 3,
   "metadata": {},
   "outputs": [
    {
     "name": "stdout",
     "output_type": "stream",
     "text": [
      "A soma das colunas é: [28 32 36 40]\n"
     ]
    }
   ],
   "source": [
    "# Exercício 3. Dada a matriz faça a soma das colunas: \n",
    "#   X = np.array([\n",
    "#   [1,   2,  3,  4],\n",
    "#   [5,   6,  7,  8],\n",
    "#   [9,  10, 11, 12],\n",
    "#   [13, 14, 15, 16]\n",
    "#   ])\n",
    "\n",
    "X = np.array([[1, 2, 3, 4],\n",
    "              [5, 6, 7, 8],\n",
    "              [9, 10, 11, 12],\n",
    "              [13, 14, 15, 16]])\n",
    "soma_colunas = np.sum(X, axis=0)  # Soma ao longo das linhas (axis=0)\n",
    "print(\"A soma das colunas é:\", soma_colunas)"
   ]
  },
  {
   "cell_type": "code",
   "execution_count": 9,
   "metadata": {},
   "outputs": [
    {
     "name": "stdout",
     "output_type": "stream",
     "text": [
      "A média das linhas é [ 2.5  6.5 10.5 14.5]\n"
     ]
    }
   ],
   "source": [
    "# Exercício 4. Faça a média das linhas:\n",
    "\n",
    "#   X = np.array([\n",
    "#   [1,   2,  3,  4],\n",
    "#   [5,   6,  7,  8],\n",
    "#   [9,  10, 11, 12],\n",
    "#   [13, 14, 15, 16]\n",
    "#   ])\n",
    "\n",
    "media_linhas = np.mean(X, axis=1)\n",
    "print( \"A média das linhas é\", media_linhas)"
   ]
  },
  {
   "cell_type": "code",
   "execution_count": 10,
   "metadata": {},
   "outputs": [
    {
     "name": "stdout",
     "output_type": "stream",
     "text": [
      "O maior valor é 10\n"
     ]
    }
   ],
   "source": [
    "# Exercício 5. Dado o array X = np.array([1, 2, 0, 4, 5, 6, 0, 0, 9, 10]), mostre o elemento de maior valor.\n",
    "\n",
    "X = np.array([1, 2, 0, 4, 5, 6, 0, 0, 9, 10])\n",
    "maior_valor = np.max(X)\n",
    "print(\"O maior valor é\", maior_valor)"
   ]
  }
 ],
 "metadata": {
  "kernelspec": {
   "display_name": "venv",
   "language": "python",
   "name": "python3"
  },
  "language_info": {
   "codemirror_mode": {
    "name": "ipython",
    "version": 3
   },
   "file_extension": ".py",
   "mimetype": "text/x-python",
   "name": "python",
   "nbconvert_exporter": "python",
   "pygments_lexer": "ipython3",
   "version": "3.12.2"
  }
 },
 "nbformat": 4,
 "nbformat_minor": 2
}
